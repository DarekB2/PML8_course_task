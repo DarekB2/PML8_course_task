{
 "cells": [
  {
   "cell_type": "code",
   "execution_count": 1,
   "id": "august-latest",
   "metadata": {
    "ExecuteTime": {
     "end_time": "2021-05-21T08:07:07.875899Z",
     "start_time": "2021-05-21T08:07:05.033852Z"
    }
   },
   "outputs": [],
   "source": [
    "import pandas as pd\n",
    "import numpy as np\n",
    "import gc\n",
    "np.random.seed(0)\n",
    "\n",
    "import matplotlib.pyplot as plt\n",
    "import seaborn as sns\n",
    "import scikitplot as skplt\n",
    "\n",
    "import sys\n",
    "import re\n",
    "\n",
    "from sklearn.metrics import mean_absolute_error\n",
    "from sklearn.model_selection import learning_curve, train_test_split, KFold\n",
    "\n",
    "from sklearn.dummy import DummyRegressor\n",
    "from sklearn.tree import DecisionTreeRegressor\n",
    "from sklearn.ensemble import RandomForestRegressor\n",
    "import xgboost as xgb\n",
    "from xgboost import XGBRegressor\n",
    "from catboost import CatBoostRegressor\n",
    "\n",
    "import xgbfir\n",
    "import eli5\n",
    "%matplotlib inline"
   ]
  },
  {
   "cell_type": "code",
   "execution_count": 2,
   "id": "upper-cigarette",
   "metadata": {
    "ExecuteTime": {
     "end_time": "2021-05-21T08:07:10.818663Z",
     "start_time": "2021-05-21T08:07:09.277228Z"
    }
   },
   "outputs": [],
   "source": [
    "train = pd.read_hdf('../input/property.train.h5')\n",
    "test = pd.read_hdf('../input/property.test.h5') # test set without price\n",
    "\n",
    "df_all = pd.concat([train, test], sort=False)"
   ]
  },
  {
   "cell_type": "code",
   "execution_count": 3,
   "id": "broadband-basis",
   "metadata": {
    "ExecuteTime": {
     "end_time": "2021-05-21T08:07:12.564948Z",
     "start_time": "2021-05-21T08:07:12.268457Z"
    }
   },
   "outputs": [],
   "source": [
    "df_all['Security:'] = df_all['Security:'].str.lower()\n",
    "df_all['Security:'].fillna('-1', inplace=True)\n",
    "df_all.loc[df_all['Security:'].str.contains('24|round'), 'Security:'] = 'full'\n",
    "\n",
    "condition = df_all['Security:'].isin(['provided', 'is'])\n",
    "df_all.loc[condition, 'Security:'] = 'yes'\n",
    "df_all.loc[df_all['Security:'].str.contains('security|guard|protected|secure'), 'Security:'] = 'yes'\n",
    "\n",
    "condition = df_all['Security:'].isin(['fenced area', 'enclosed courtyard', 'ogorojennaja territory'])\n",
    "df_all.loc[condition, 'Security:'] = 'closed area'\n",
    "\n",
    "df_all.loc[df_all['Security:']=='not allowed', 'Security:'] = 'no'\n",
    "df_all.loc[df_all['Security:']=='cat t', 'Security:'] = 'video surveillance'\n",
    "\n",
    "condition = df_all['Security:'].isin(['concierge, intercom', 'concierge. doorphone.']) \n",
    "df_all.loc[condition, 'Security:'] = 'concierge'\n",
    "\n",
    "condition = df_all['Security:'].isin(['-1', 'yes', 'closed area', 'full', 'video surveillance', 'concierge', 'no'])\n",
    "df_all.loc[~condition, 'Security:'] = 'some'"
   ]
  },
  {
   "cell_type": "code",
   "execution_count": 4,
   "id": "executed-bulgarian",
   "metadata": {
    "ExecuteTime": {
     "end_time": "2021-05-21T08:07:13.937191Z",
     "start_time": "2021-05-21T08:07:13.775394Z"
    }
   },
   "outputs": [],
   "source": [
    "#Change columns with list to string.\n",
    "col_list = ['breadcrumbs', 'date', 'geo_block', 'owner']\n",
    "for column in col_list:\n",
    "    df_all['{}_str'.format(column)] = df_all[column].map(lambda x: ','.join(x))"
   ]
  },
  {
   "cell_type": "code",
   "execution_count": 5,
   "id": "better-participant",
   "metadata": {
    "ExecuteTime": {
     "end_time": "2021-05-21T08:07:15.281961Z",
     "start_time": "2021-05-21T08:07:15.043580Z"
    }
   },
   "outputs": [],
   "source": [
    "df_all.loc[df_all['owner_str'].str.contains('@'), 'owner_str'] = 'priv'\n",
    "counts = df_all['owner_str'].value_counts()\n",
    "mask = df_all['owner_str'].isin(counts[counts < 5].index)\n",
    "df_all.loc[mask, 'owner_str'] = 'other'"
   ]
  },
  {
   "cell_type": "code",
   "execution_count": 6,
   "id": "scheduled-nowhere",
   "metadata": {
    "ExecuteTime": {
     "end_time": "2021-05-21T08:07:18.824783Z",
     "start_time": "2021-05-21T08:07:16.503473Z"
    }
   },
   "outputs": [],
   "source": [
    "def bread_geo_func(row): #concatenate breadcrumbs with geo_block, erase repeated values\n",
    "    bread_str = ','.join(row['breadcrumbs']).lower().strip()\n",
    "    geo_str = ','.join(row['geo_block']).lower().strip()\n",
    "    bread_geo_str = (bread_str +','+ geo_str).replace('ул.', 'ул').replace('пер.', 'пер').replace('пр-кт.', 'пр-кт').\\\n",
    "                replace('проезд.', 'проезд').replace('б-р.', 'б-р')\n",
    "    \n",
    "    bread_geo = ','.join(sorted(list(set(bread_geo_str.split(',')) - set(['москва', 'г. москва']))))\n",
    "    \n",
    "    return bread_geo\n",
    "\n",
    "df_all['bread_geo_str'] = df_all[['breadcrumbs', 'geo_block']].apply(bread_geo_func, axis=1)"
   ]
  },
  {
   "cell_type": "code",
   "execution_count": 7,
   "id": "respiratory-lithuania",
   "metadata": {
    "ExecuteTime": {
     "end_time": "2021-05-21T08:07:20.762898Z",
     "start_time": "2021-05-21T08:07:19.794828Z"
    }
   },
   "outputs": [],
   "source": [
    "def metro_func(row):\n",
    "    metro = [i for i in row['bread_geo_str'].split(',') if ('мцк ' in i)]\n",
    "    if len(metro)>0 :\n",
    "        return ','.join(metro)\n",
    "    return 'missing'\n",
    "df_all['metro_str'] = df_all[['bread_geo_str']].apply(metro_func, axis=1)"
   ]
  },
  {
   "cell_type": "code",
   "execution_count": 8,
   "id": "impressed-heater",
   "metadata": {
    "ExecuteTime": {
     "end_time": "2021-05-21T08:07:22.686679Z",
     "start_time": "2021-05-21T08:07:21.695145Z"
    }
   },
   "outputs": [],
   "source": [
    "def station_func(row):\n",
    "    station = [i for i in row['bread_geo_str'].split(',') if ('м. ' in i)]\n",
    "    if len(station)>0 :\n",
    "        return ','.join(station)\n",
    "    return 'missing'\n",
    "df_all['station_str'] = df_all[['bread_geo_str']].apply(station_func, axis=1)"
   ]
  },
  {
   "cell_type": "code",
   "execution_count": 9,
   "id": "dental-vegetable",
   "metadata": {
    "ExecuteTime": {
     "end_time": "2021-05-21T08:07:24.838654Z",
     "start_time": "2021-05-21T08:07:23.569199Z"
    }
   },
   "outputs": [],
   "source": [
    "def street_func(row):\n",
    "    street_ext = ['ул ', 'б-р', 'пер ', 'пр-кт', 'аллея ', 'проезд ', 'ш ', 'пл ', 'наб ']\n",
    "    street = [i for i in row['bread_geo_str'].split(',') if any(ext in i for ext in street_ext)]\n",
    "    if len(street)>0 :\n",
    "        return ','.join(street)\n",
    "    return 'missing'\n",
    "df_all['street_str'] = df_all[['bread_geo_str']].apply(street_func, axis=1)"
   ]
  },
  {
   "cell_type": "code",
   "execution_count": 14,
   "id": "enabling-privacy",
   "metadata": {
    "ExecuteTime": {
     "end_time": "2021-05-21T08:13:20.357075Z",
     "start_time": "2021-05-21T08:13:20.305499Z"
    }
   },
   "outputs": [],
   "source": [
    "counts = df_all['station_str'].value_counts()\n",
    "mask = df_all['station_str'].isin(counts[counts < 5].index)\n",
    "df_all.loc[mask, 'station_str'] = 'other'\n",
    "\n",
    "counts = df_all['street_str'].value_counts()\n",
    "mask = df_all['street_str'].isin(counts[counts < 5].index)\n",
    "df_all.loc[mask, 'street_str'] = 'other'"
   ]
  },
  {
   "cell_type": "code",
   "execution_count": 10,
   "id": "affecting-monthly",
   "metadata": {
    "ExecuteTime": {
     "end_time": "2021-05-21T08:07:26.516265Z",
     "start_time": "2021-05-21T08:07:26.096543Z"
    }
   },
   "outputs": [],
   "source": [
    "col_to_factorize = [column for column in df_all.columns if (':' in column) or ('_str' in column)]\n",
    "for column in col_to_factorize:\n",
    "    df_all['{}_cat'.format(column)] = df_all[column].factorize()[0]"
   ]
  },
  {
   "cell_type": "code",
   "execution_count": 15,
   "id": "equal-scanner",
   "metadata": {
    "ExecuteTime": {
     "end_time": "2021-05-21T08:13:40.498944Z",
     "start_time": "2021-05-21T08:13:40.363303Z"
    }
   },
   "outputs": [],
   "source": [
    "train = df_all[~df_all['price'].isna()]\n",
    "test = df_all[df_all['price'].isna()]\n",
    "test = test.drop(['price'], axis=1)\n",
    "test['id'] = test['id'].astype('int64')"
   ]
  },
  {
   "cell_type": "code",
   "execution_count": 12,
   "id": "stuffed-conviction",
   "metadata": {
    "ExecuteTime": {
     "end_time": "2021-05-21T08:07:32.545869Z",
     "start_time": "2021-05-21T08:07:32.535908Z"
    }
   },
   "outputs": [],
   "source": [
    "models = [('XGB', XGBRegressor(max_depth=7, n_estimators=100, learning_rate=0.2, random_state=0)),\n",
    "          ('CB', CatBoostRegressor(depth=7, verbose=False))]\n",
    "\n",
    "def get_feats(df, del_list=[]):\n",
    "    feats = df.select_dtypes(include=['number']).columns\n",
    "    black_list = ['price', 'id'] + del_list\n",
    "    feats = [f for f in feats if f not in black_list]\n",
    "    return feats\n",
    "\n",
    "def run_cv(model, X, y, folds=3, cv_type=KFold, success_metric=mean_absolute_error):\n",
    "    cv = cv_type(n_splits=folds, random_state=0, shuffle=True)\n",
    "    \n",
    "    scores = []\n",
    "    for train_idx, test_idx in cv.split(X):\n",
    "        X_train, X_test = X[train_idx], X[test_idx]\n",
    "        y_train, y_test = y[train_idx], y[test_idx]\n",
    "\n",
    "        y_log_train = np.log(y_train)\n",
    "              \n",
    "        model.fit(X_train, y_log_train)\n",
    "        y_log_pred = model.predict(X_test)\n",
    "        \n",
    "        y_pred = np.exp(y_log_pred)\n",
    "        y_pred[y_pred < 0] = 0 \n",
    "            \n",
    "        score = success_metric(y_test, y_pred)\n",
    "        scores.append( score )\n",
    "\n",
    "    return scores, np.mean(scores), np.std(scores)\n",
    "\n",
    "def run_models(train, feats, models):\n",
    "    print(feats)\n",
    "    X = train[feats].values\n",
    "    y = train['price'].values\n",
    "    \n",
    "    for model_name, model in models:\n",
    "        scores, score, std = run_cv(model, X, y)\n",
    "        \n",
    "        print('model {}- each fold score: {}; mean: {:.2f}, std: {:.2f}'.format(model_name,  scores, score, std))\n",
    "\n",
    "def submit(model, train, test, feats, file='model_.csv'):\n",
    "    X_train = train[feats]\n",
    "    y_train = np.log(train['price'])\n",
    "    X_test = test[feats]\n",
    "    \n",
    "    model.fit(X_train, y_train)\n",
    "    y_pred = model.predict(X_test)\n",
    "    y_pred = np.exp(y_pred)\n",
    "    y_pred[y_pred < 0] = 0\n",
    "    \n",
    "    test['price'] = y_pred\n",
    "    test[ ['id', 'price'] ].to_csv('../output/{}'.format(file), index=False) \n",
    "    print('submit for {} \\ndone'.format(model))"
   ]
  },
  {
   "cell_type": "code",
   "execution_count": 15,
   "id": "afraid-cambodia",
   "metadata": {
    "ExecuteTime": {
     "end_time": "2021-05-21T06:03:20.078280Z",
     "start_time": "2021-05-21T06:03:10.581094Z"
    }
   },
   "outputs": [
    {
     "name": "stdout",
     "output_type": "stream",
     "text": [
      "['Security:_cat', 'Building type:_cat', 'Object type:_cat', 'Ad type:_cat', 'Commission agent:_cat', 'Construction phase:_cat', 'Housing class:_cat', 'Elevator:_cat', 'Bathroom type:_cat', 'Balcony type:_cat', 'Mortgage possible:_cat', 'The view from the window:_cat', 'Garbage chute:_cat', 'Repair:_cat', 'Fridge:_cat', 'Phone:_cat', 'Furniture:_cat', 'Free layout:_cat', 'It is possible to bargain:_cat', 'Floor covering:_cat', 'Room type:_cat', 'Internet:_cat', 'Kitchen furniture:_cat', 'TV:_cat', 'Washing machine:_cat', 'Foundation type:_cat', 'Overlap type:_cat', 'Type of the building:_cat', 'Playground:_cat', 'Class:_cat', 'date_str_cat', 'geo_block_str_cat', 'owner_str_cat', 'bread_geo_str_cat']\n",
      "model XGB- score: 5.753284532111753\n",
      "model CB- score: 5.750923376738445\n"
     ]
    }
   ],
   "source": [
    "# owner : priv + <5 + bread_geo - bread_str\n",
    "del_list = ['breadcrumbs_str_cat']\n",
    "feats = get_feats(train, del_list)\n",
    "run_models(train, feats, models)"
   ]
  },
  {
   "cell_type": "code",
   "execution_count": 14,
   "id": "pursuant-direction",
   "metadata": {
    "ExecuteTime": {
     "end_time": "2021-05-21T07:16:29.968914Z",
     "start_time": "2021-05-21T07:16:02.906091Z"
    }
   },
   "outputs": [
    {
     "name": "stdout",
     "output_type": "stream",
     "text": [
      "['Security:_cat', 'Building type:_cat', 'Object type:_cat', 'Ad type:_cat', 'Commission agent:_cat', 'Construction phase:_cat', 'Housing class:_cat', 'Elevator:_cat', 'Bathroom type:_cat', 'Balcony type:_cat', 'Mortgage possible:_cat', 'The view from the window:_cat', 'Garbage chute:_cat', 'Repair:_cat', 'Fridge:_cat', 'Phone:_cat', 'Furniture:_cat', 'Free layout:_cat', 'It is possible to bargain:_cat', 'Floor covering:_cat', 'Room type:_cat', 'Internet:_cat', 'Kitchen furniture:_cat', 'TV:_cat', 'Washing machine:_cat', 'Foundation type:_cat', 'Overlap type:_cat', 'Type of the building:_cat', 'Playground:_cat', 'Class:_cat', 'date_str_cat', 'geo_block_str_cat', 'owner_str_cat', 'bread_geo_str_cat']\n",
      "model XGB- each fold score: [5.710966336553063, 5.555384656664529, 5.264931342382497]; mean: 5.51, std: 0.18\n",
      "model CB- each fold score: [5.657333948992947, 5.446270628619712, 5.218039615381332]; mean: 5.44, std: 0.18\n"
     ]
    }
   ],
   "source": [
    "# owner : priv + <5 + bread_geo - bread_str KFold\n",
    "del_list = ['breadcrumbs_str_cat']\n",
    "feats = get_feats(train, del_list)\n",
    "run_models(train, feats, models)"
   ]
  },
  {
   "cell_type": "code",
   "execution_count": 13,
   "id": "authorized-franklin",
   "metadata": {
    "ExecuteTime": {
     "end_time": "2021-05-21T08:08:23.893886Z",
     "start_time": "2021-05-21T08:07:54.927808Z"
    }
   },
   "outputs": [
    {
     "name": "stdout",
     "output_type": "stream",
     "text": [
      "['Security:_cat', 'Building type:_cat', 'Object type:_cat', 'Ad type:_cat', 'Commission agent:_cat', 'Construction phase:_cat', 'Housing class:_cat', 'Elevator:_cat', 'Bathroom type:_cat', 'Balcony type:_cat', 'Mortgage possible:_cat', 'The view from the window:_cat', 'Garbage chute:_cat', 'Repair:_cat', 'Fridge:_cat', 'Phone:_cat', 'Furniture:_cat', 'Free layout:_cat', 'It is possible to bargain:_cat', 'Floor covering:_cat', 'Room type:_cat', 'Internet:_cat', 'Kitchen furniture:_cat', 'TV:_cat', 'Washing machine:_cat', 'Foundation type:_cat', 'Overlap type:_cat', 'Type of the building:_cat', 'Playground:_cat', 'Class:_cat', 'date_str_cat', 'geo_block_str_cat', 'owner_str_cat', 'bread_geo_str_cat', 'metro_str_cat', 'station_str_cat', 'street_str_cat']\n",
      "model XGB- each fold score: [5.6066832861778035, 5.456967897545102, 5.1496763914238315]; mean: 5.40, std: 0.19\n",
      "model CB- each fold score: [5.525701340869351, 5.373652546512391, 5.072295367359039]; mean: 5.32, std: 0.19\n"
     ]
    }
   ],
   "source": [
    "# +metro, station, street\n",
    "del_list = ['breadcrumbs_str_cat']\n",
    "feats = get_feats(train, del_list)\n",
    "run_models(train, feats, models)"
   ]
  },
  {
   "cell_type": "code",
   "execution_count": 16,
   "id": "favorite-serbia",
   "metadata": {
    "ExecuteTime": {
     "end_time": "2021-05-21T08:14:39.289736Z",
     "start_time": "2021-05-21T08:14:10.345087Z"
    }
   },
   "outputs": [
    {
     "name": "stdout",
     "output_type": "stream",
     "text": [
      "['Security:_cat', 'Building type:_cat', 'Object type:_cat', 'Ad type:_cat', 'Commission agent:_cat', 'Construction phase:_cat', 'Housing class:_cat', 'Elevator:_cat', 'Bathroom type:_cat', 'Balcony type:_cat', 'Mortgage possible:_cat', 'The view from the window:_cat', 'Garbage chute:_cat', 'Repair:_cat', 'Fridge:_cat', 'Phone:_cat', 'Furniture:_cat', 'Free layout:_cat', 'It is possible to bargain:_cat', 'Floor covering:_cat', 'Room type:_cat', 'Internet:_cat', 'Kitchen furniture:_cat', 'TV:_cat', 'Washing machine:_cat', 'Foundation type:_cat', 'Overlap type:_cat', 'Type of the building:_cat', 'Playground:_cat', 'Class:_cat', 'date_str_cat', 'geo_block_str_cat', 'owner_str_cat', 'bread_geo_str_cat', 'metro_str_cat', 'station_str_cat', 'street_str_cat']\n",
      "model XGB- each fold score: [5.66342635617137, 5.470616632640759, 5.08100621244768]; mean: 5.41, std: 0.24\n",
      "model CB- each fold score: [5.492454175083386, 5.373635823152503, 5.0866895466069515]; mean: 5.32, std: 0.17\n"
     ]
    }
   ],
   "source": [
    "# +metro, station, street >5\n",
    "del_list = ['breadcrumbs_str_cat']\n",
    "feats = get_feats(train, del_list)\n",
    "run_models(train, feats, models)"
   ]
  },
  {
   "cell_type": "code",
   "execution_count": null,
   "id": "latest-knight",
   "metadata": {},
   "outputs": [],
   "source": [
    "plt.rcParams['figure.figsize']=(30,15)\n",
    "sns.heatmap(train[feats+['price']].corr(), vmax=1., vmin=-1., annot=True, linewidths=.8, cmap=\"YlGnBu\");"
   ]
  },
  {
   "cell_type": "code",
   "execution_count": 17,
   "id": "similar-automation",
   "metadata": {
    "ExecuteTime": {
     "end_time": "2021-05-21T08:16:30.960950Z",
     "start_time": "2021-05-21T08:16:23.230624Z"
    }
   },
   "outputs": [
    {
     "name": "stdout",
     "output_type": "stream",
     "text": [
      "submit for <catboost.core.CatBoostRegressor object at 0x7ff7ea6ec2e0> \n",
      "done\n"
     ]
    }
   ],
   "source": [
    "model = models[1][1]\n",
    "submit(model, train, test, feats, 'ver4_cb.csv')"
   ]
  },
  {
   "cell_type": "markdown",
   "id": "entertaining-dividend",
   "metadata": {},
   "source": [
    "public score on Kaggle: 5.18976"
   ]
  }
 ],
 "metadata": {
  "kernelspec": {
   "display_name": "Python 3",
   "language": "python",
   "name": "python3"
  },
  "language_info": {
   "codemirror_mode": {
    "name": "ipython",
    "version": 3
   },
   "file_extension": ".py",
   "mimetype": "text/x-python",
   "name": "python",
   "nbconvert_exporter": "python",
   "pygments_lexer": "ipython3",
   "version": "3.8.6"
  }
 },
 "nbformat": 4,
 "nbformat_minor": 5
}
