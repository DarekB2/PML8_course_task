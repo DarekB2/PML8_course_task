{
 "cells": [
  {
   "cell_type": "code",
   "execution_count": 1,
   "id": "mineral-pacific",
   "metadata": {
    "ExecuteTime": {
     "end_time": "2021-05-20T07:39:14.411794Z",
     "start_time": "2021-05-20T07:39:12.696765Z"
    }
   },
   "outputs": [],
   "source": [
    "import pandas as pd\n",
    "import numpy as np\n",
    "import gc\n",
    "np.random.seed(0)\n",
    "\n",
    "import matplotlib.pyplot as plt\n",
    "import seaborn as sns\n",
    "import scikitplot as skplt\n",
    "\n",
    "import sys\n",
    "import re\n",
    "\n",
    "from sklearn.metrics import mean_absolute_error\n",
    "from sklearn.model_selection import learning_curve, train_test_split, KFold\n",
    "\n",
    "from sklearn.dummy import DummyRegressor\n",
    "from sklearn.tree import DecisionTreeRegressor\n",
    "from sklearn.ensemble import RandomForestRegressor\n",
    "import xgboost as xgb\n",
    "from xgboost import XGBRegressor\n",
    "from catboost import CatBoostRegressor\n",
    "\n",
    "import xgbfir\n",
    "%matplotlib inline"
   ]
  },
  {
   "cell_type": "code",
   "execution_count": 2,
   "id": "accredited-slave",
   "metadata": {
    "ExecuteTime": {
     "end_time": "2021-05-20T07:39:17.310671Z",
     "start_time": "2021-05-20T07:39:15.754026Z"
    }
   },
   "outputs": [],
   "source": [
    "train = pd.read_hdf('../input/property.train.h5')\n",
    "test = pd.read_hdf('../input/property.test.h5') # test set without price\n",
    "\n",
    "df_all = pd.concat([train, test], sort=False)"
   ]
  },
  {
   "cell_type": "code",
   "execution_count": 3,
   "id": "adopted-pleasure",
   "metadata": {
    "ExecuteTime": {
     "end_time": "2021-05-20T07:39:19.016665Z",
     "start_time": "2021-05-20T07:39:18.380971Z"
    }
   },
   "outputs": [],
   "source": [
    "#Change columns with list to string.\n",
    "col_list = ['breadcrumbs', 'date', 'geo_block', 'owner']\n",
    "for column in col_list:\n",
    "    df_all['{}_str'.format(column)] = df_all[column].map(lambda x: ','.join(x))\n",
    "    \n",
    "col_to_factorize = [column for column in df_all.columns if (':' in column) or ('_str' in column)]\n",
    "for column in col_to_factorize:\n",
    "    df_all['{}_cat'.format(column)] = df_all[column].factorize()[0]"
   ]
  },
  {
   "cell_type": "code",
   "execution_count": 4,
   "id": "otherwise-heritage",
   "metadata": {
    "ExecuteTime": {
     "end_time": "2021-05-20T07:39:20.655682Z",
     "start_time": "2021-05-20T07:39:20.249781Z"
    }
   },
   "outputs": [],
   "source": [
    "train = df_all[~df_all['price'].isna()]\n",
    "test = df_all[df_all['price'].isna()]\n",
    "test = test.drop(['price'], axis=1)\n",
    "test['id'] = test['id'].astype('int64')"
   ]
  },
  {
   "cell_type": "code",
   "execution_count": 5,
   "id": "south-painting",
   "metadata": {
    "ExecuteTime": {
     "end_time": "2021-05-20T07:39:23.481671Z",
     "start_time": "2021-05-20T07:39:23.471705Z"
    }
   },
   "outputs": [],
   "source": [
    "feats = train.select_dtypes(include=['number']).columns\n",
    "black_list = ['price', 'id']\n",
    "feats = [f for f in feats if f not in black_list]"
   ]
  },
  {
   "cell_type": "code",
   "execution_count": 11,
   "id": "knowing-infrared",
   "metadata": {
    "ExecuteTime": {
     "end_time": "2021-05-20T07:42:15.959906Z",
     "start_time": "2021-05-20T07:42:15.950685Z"
    }
   },
   "outputs": [],
   "source": [
    "models = [('DT', DecisionTreeRegressor(max_depth=7, random_state=0)),\n",
    "          ('RF', RandomForestRegressor(max_depth=7, random_state=0)),\n",
    "          ('XGB', XGBRegressor(max_depth=7, n_estimators=100, learning_rate=0.2, random_state=0)),\n",
    "          ('CB', CatBoostRegressor(depth=7, verbose=False))]\n",
    "\n",
    "def run_models(train, feats, models):\n",
    "    print(feats)\n",
    "    \n",
    "    for model_name, model in models:\n",
    "        X_train, X_test, y_train, y_test = train_test_split(train[feats], train['price'], test_size=0.3, random_state=0)\n",
    "\n",
    "        y_train  = np.log(y_train)\n",
    "        model.fit(X_train, y_train)\n",
    "\n",
    "        y_pred = model.predict(X_test)\n",
    "        y_pred = np.exp(y_pred)\n",
    "        y_pred[y_pred < 0] = 0\n",
    "\n",
    "        score = mean_absolute_error(y_test, y_pred)\n",
    "        print('model {}- score: {}'.format(model_name,  score))\n",
    "\n",
    "def submit(model, train, test, feats, file='model_.csv'):\n",
    "    X_train = train[feats]\n",
    "    y_train = np.log(train['price'])\n",
    "    X_test = test[feats]\n",
    "    \n",
    "    model.fit(X_train, y_train)\n",
    "    y_pred = model.predict(X_test)\n",
    "    y_pred = np.exp(y_pred)\n",
    "    y_pred[y_pred < 0] = 0\n",
    "    \n",
    "    test['price'] = y_pred\n",
    "    test[ ['id', 'price'] ].to_csv('../output/{}'.format(file), index=False) \n",
    "    print('submit for {} \\ndone'.format(model))"
   ]
  },
  {
   "cell_type": "code",
   "execution_count": 12,
   "id": "independent-uzbekistan",
   "metadata": {
    "ExecuteTime": {
     "end_time": "2021-05-20T07:42:37.892005Z",
     "start_time": "2021-05-20T07:42:20.776158Z"
    }
   },
   "outputs": [
    {
     "name": "stdout",
     "output_type": "stream",
     "text": [
      "['Security:_cat', 'Building type:_cat', 'Object type:_cat', 'Ad type:_cat', 'Commission agent:_cat', 'Construction phase:_cat', 'Housing class:_cat', 'Elevator:_cat', 'Bathroom type:_cat', 'Balcony type:_cat', 'Mortgage possible:_cat', 'The view from the window:_cat', 'Garbage chute:_cat', 'Repair:_cat', 'Fridge:_cat', 'Phone:_cat', 'Furniture:_cat', 'Free layout:_cat', 'It is possible to bargain:_cat', 'Floor covering:_cat', 'Room type:_cat', 'Internet:_cat', 'Kitchen furniture:_cat', 'TV:_cat', 'Washing machine:_cat', 'Foundation type:_cat', 'Overlap type:_cat', 'Type of the building:_cat', 'Playground:_cat', 'Class:_cat', 'breadcrumbs_str_cat', 'date_str_cat', 'geo_block_str_cat', 'owner_str_cat']\n",
      "model DT- score: 7.389944709162244\n",
      "model RF- score: 7.276891267235837\n",
      "model XGB- score: 5.815427705450044\n",
      "model CB- score: 5.740346089925315\n"
     ]
    }
   ],
   "source": [
    "run_models(train, feats, models)"
   ]
  },
  {
   "cell_type": "code",
   "execution_count": 14,
   "id": "common-cosmetic",
   "metadata": {
    "ExecuteTime": {
     "end_time": "2021-05-20T07:44:51.184425Z",
     "start_time": "2021-05-20T07:44:42.809269Z"
    }
   },
   "outputs": [
    {
     "name": "stdout",
     "output_type": "stream",
     "text": [
      "submit for <catboost.core.CatBoostRegressor object at 0x7f37cc45e940> \n",
      "done\n"
     ]
    }
   ],
   "source": [
    "model = models[3][1]\n",
    "submit(model, train, test, feats, 'simple_cb.csv')"
   ]
  },
  {
   "cell_type": "markdown",
   "id": "residential-florida",
   "metadata": {},
   "source": [
    "public score on Kaggle: 5.28831"
   ]
  }
 ],
 "metadata": {
  "kernelspec": {
   "display_name": "Python 3",
   "language": "python",
   "name": "python3"
  },
  "language_info": {
   "codemirror_mode": {
    "name": "ipython",
    "version": 3
   },
   "file_extension": ".py",
   "mimetype": "text/x-python",
   "name": "python",
   "nbconvert_exporter": "python",
   "pygments_lexer": "ipython3",
   "version": "3.8.6"
  }
 },
 "nbformat": 4,
 "nbformat_minor": 5
}
