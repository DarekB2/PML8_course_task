{
 "cells": [
  {
   "cell_type": "code",
   "execution_count": 1,
   "id": "weird-newport",
   "metadata": {
    "ExecuteTime": {
     "end_time": "2021-05-18T18:22:07.212452Z",
     "start_time": "2021-05-18T18:22:05.628687Z"
    }
   },
   "outputs": [],
   "source": [
    "import pandas as pd\n",
    "import numpy as np\n",
    "import gc\n",
    "np.random.seed(0)\n",
    "\n",
    "import matplotlib.pyplot as plt\n",
    "import seaborn as sns\n",
    "import scikitplot as skplt\n",
    "\n",
    "import sys\n",
    "import re\n",
    "\n",
    "from sklearn.metrics import mean_absolute_error\n",
    "from sklearn.model_selection import learning_curve, train_test_split\n",
    "from sklearn.model_selection import ShuffleSplit, KFold, StratifiedKFold\n",
    "\n",
    "from sklearn.dummy import DummyRegressor\n",
    "from sklearn.linear_model import LogisticRegression\n",
    "from sklearn.tree import DecisionTreeRegressor\n",
    "from sklearn.ensemble import RandomForestRegressor\n",
    "import xgboost as xgb\n",
    "from xgboost import XGBRegressor\n",
    "from catboost import CatBoostRegressor\n",
    "\n",
    "from scipy.stats.mstats import winsorize\n",
    "import xgbfir\n",
    "%matplotlib inline"
   ]
  },
  {
   "cell_type": "markdown",
   "id": "employed-stress",
   "metadata": {},
   "source": [
    "## Dane\n",
    "To są prawdziwe dane.\n",
    "\n",
    "**Uwaga!** Danych można używać tylko w **celach edukacyjnych** (również nie można ich publikować lub dzielić się nimi z innymi)!"
   ]
  },
  {
   "cell_type": "code",
   "execution_count": 21,
   "id": "veterinary-hello",
   "metadata": {
    "ExecuteTime": {
     "end_time": "2021-05-18T19:00:34.428876Z",
     "start_time": "2021-05-18T19:00:32.989209Z"
    }
   },
   "outputs": [],
   "source": [
    "train = pd.read_hdf('../input/property.train.h5')\n",
    "test = pd.read_hdf('../input/property.test.h5') #zbiór testowy bez odpowiedzi\n",
    "\n",
    "train['price_log'] = np.log(train['price'])\n",
    "\n",
    "df_all = pd.concat([train, test], sort=False)"
   ]
  },
  {
   "cell_type": "code",
   "execution_count": 22,
   "id": "informed-senate",
   "metadata": {
    "ExecuteTime": {
     "end_time": "2021-05-18T19:00:36.535012Z",
     "start_time": "2021-05-18T19:00:36.232899Z"
    }
   },
   "outputs": [],
   "source": [
    "col_to_factorize = [column for column in df_all.columns if ':' in column]\n",
    "for column in col_to_factorize:\n",
    "    df_all['{}_cat'.format(column)] = df_all[column].factorize()[0]"
   ]
  },
  {
   "cell_type": "code",
   "execution_count": 23,
   "id": "basic-patrol",
   "metadata": {
    "ExecuteTime": {
     "end_time": "2021-05-18T19:00:38.346024Z",
     "start_time": "2021-05-18T19:00:38.078439Z"
    }
   },
   "outputs": [],
   "source": [
    "train = df_all[~df_all['price'].isna()]\n",
    "test = df_all[df_all['price'].isna()]"
   ]
  },
  {
   "cell_type": "code",
   "execution_count": 29,
   "id": "swiss-parallel",
   "metadata": {
    "ExecuteTime": {
     "end_time": "2021-05-18T19:07:46.213378Z",
     "start_time": "2021-05-18T19:07:46.182042Z"
    }
   },
   "outputs": [
    {
     "data": {
      "text/plain": [
       "8.946772814485968"
      ]
     },
     "execution_count": 29,
     "metadata": {},
     "output_type": "execute_result"
    }
   ],
   "source": [
    "feats = train.select_dtypes(include=['number']).columns\n",
    "black_list = ['price', 'price_log', 'id']\n",
    "feats = [f for f in feats if f not in black_list]\n",
    "\n",
    "X_train, X_test, y_train, y_test = train_test_split(train[feats], train['price_log'], test_size=0.3, random_state=0)\n",
    "\n",
    "model = DummyRegressor()\n",
    "\n",
    "model.fit(X_train, y_train)\n",
    "\n",
    "y_pred = model.predict(X_test)\n",
    "\n",
    "y_pred = np.exp(y_pred)\n",
    "y_pred[y_pred < 0] = np.min(np.exp(y_test))\n",
    "\n",
    "mean_absolute_error(y_test, y_pred)"
   ]
  },
  {
   "cell_type": "code",
   "execution_count": null,
   "id": "reliable-basic",
   "metadata": {},
   "outputs": [],
   "source": [
    "X_test = test[feats]\n",
    "y_test = test['price_log']\n",
    "y_pred = model.predict(X_test)\n",
    "y_pred = np.exp(y_pred)\n",
    "y_pred[y_pred < 0] = np.min(np.exp(y_test))\n",
    "test['price'] = y_pred\n",
    "test[ ['id', 'price'] ].to_csv('../output/simple_model.csv', index=False) "
   ]
  }
 ],
 "metadata": {
  "kernelspec": {
   "display_name": "Python 3",
   "language": "python",
   "name": "python3"
  },
  "language_info": {
   "codemirror_mode": {
    "name": "ipython",
    "version": 3
   },
   "file_extension": ".py",
   "mimetype": "text/x-python",
   "name": "python",
   "nbconvert_exporter": "python",
   "pygments_lexer": "ipython3",
   "version": "3.8.6"
  }
 },
 "nbformat": 4,
 "nbformat_minor": 5
}
